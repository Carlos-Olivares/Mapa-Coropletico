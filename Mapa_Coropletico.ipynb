{
 "cells": [
  {
   "cell_type": "markdown",
   "metadata": {},
   "source": [
    "# Mapa Coroplético\n",
    "\n",
    "Carlos Olivares <br>\n",
    "https://github.com/Carlos-Olivares/"
   ]
  },
  {
   "cell_type": "code",
   "execution_count": 1,
   "metadata": {},
   "outputs": [],
   "source": [
    "#Importar librerías\n",
    "import geopandas as gpd\n",
    "import pandas as pd\n",
    "import matplotlib.pyplot as plt\n",
    "import json\n",
    "\n",
    "%matplotlib inline"
   ]
  },
  {
   "cell_type": "code",
   "execution_count": null,
   "metadata": {},
   "outputs": [],
   "source": [
    "#Importar poligonos de comunas\n",
    "shapefile = 'ComunasSHP//comunas.shp'\n",
    "\n",
    "#Leer shapefile con geopandas\n",
    "gdf = gpd.read_file(shapefile, encoding='utf-8')[['codregion', 'Region', 'cod_comuna', 'Comuna', 'Provincia', 'geometry']]\n",
    "\n",
    "#Filtramos solo RM\n",
    "gdf = gdf[gdf['codregion'] == 13]\n",
    "\n",
    "#Filtramos algunas comunas para visualizar mejor\n",
    "gdf.head()"
   ]
  },
  {
   "cell_type": "code",
   "execution_count": null,
   "metadata": {},
   "outputs": [],
   "source": [
    "#Columnas de interés\n",
    "gdf = gdf[['cod_comuna', 'Comuna', 'geometry']]\n",
    "gdf.head()"
   ]
  },
  {
   "cell_type": "code",
   "execution_count": null,
   "metadata": {},
   "outputs": [],
   "source": [
    "#Habitantes por Comuna\n",
    "url = 'https://raw.githubusercontent.com/MinCiencia/Datos-COVID19/master/output/producto2/2020-10-09-CasosConfirmados.csv'\n",
    "habitantes = pd.read_csv(url).iloc[:,:-1]\n",
    "habitantes_13 = habitantes[habitantes['Codigo region'] == 13].copy()\n",
    "habitantes_13.head()"
   ]
  },
  {
   "cell_type": "code",
   "execution_count": null,
   "metadata": {},
   "outputs": [],
   "source": [
    "habitantes_13 = habitantes_13[['Codigo comuna', 'Comuna', 'Poblacion']]\n",
    "habitantes_13.head()"
   ]
  },
  {
   "cell_type": "code",
   "execution_count": null,
   "metadata": {},
   "outputs": [],
   "source": [
    "#Datos Faltantes\n",
    "habitantes_13.isna().sum()"
   ]
  },
  {
   "cell_type": "code",
   "execution_count": null,
   "metadata": {},
   "outputs": [],
   "source": [
    "habitantes_13.dropna(inplace = True)\n",
    "habitantes_13.isna().sum()"
   ]
  },
  {
   "cell_type": "code",
   "execution_count": null,
   "metadata": {},
   "outputs": [],
   "source": [
    "#Unir DataFrames\n",
    "df_final = gdf.merge(habitantes_13, how = 'inner', left_on = 'cod_comuna', right_on = 'Codigo comuna', suffixes = (\"\",\"_2\"))\n",
    "df_final.head()"
   ]
  },
  {
   "cell_type": "code",
   "execution_count": null,
   "metadata": {},
   "outputs": [],
   "source": [
    "df_final = df_final[['Comuna', 'Poblacion', 'geometry']]\n",
    "df_final.head()"
   ]
  },
  {
   "cell_type": "code",
   "execution_count": null,
   "metadata": {},
   "outputs": [],
   "source": [
    "df_final.plot()"
   ]
  },
  {
   "cell_type": "code",
   "execution_count": null,
   "metadata": {},
   "outputs": [],
   "source": [
    "#Leer la data como json\n",
    "merged_json = json.loads(df_final.to_json())\n",
    "\n",
    "#Convertir objeto a string\n",
    "json_data = json.dumps(merged_json)"
   ]
  },
  {
   "cell_type": "code",
   "execution_count": null,
   "metadata": {
    "scrolled": false
   },
   "outputs": [],
   "source": [
    "#Ahora con bokeh\n",
    "from bokeh.io import output_notebook, show, output_file, save\n",
    "from bokeh.plotting import figure\n",
    "from bokeh.models import GeoJSONDataSource, LinearColorMapper, HoverTool\n",
    "from bokeh.palettes import brewer\n",
    "import plotly as plt\n",
    "\n",
    "#Max Color\n",
    "max_color = df_final['Poblacion'].max()\n",
    "\n",
    "#Cargar la data json_data\n",
    "gsource = GeoJSONDataSource(geojson = json_data)\n",
    "\n",
    "#Definir una paleta de colores\n",
    "colores = brewer['YlGnBu'][9]\n",
    "\n",
    "#Revertir la paleta para que a mayor número, mas oscuro\n",
    "colores = colores[::-1]\n",
    "\n",
    "#Inicializar LinearColorMapper. Para que asocie un número a los colores.\n",
    "color_mapper = LinearColorMapper(palette = colores, low = 0, high = max_color)\n",
    "\n",
    "#Agregar hovers\n",
    "hover = HoverTool(names = ['Comunas'], tooltips = [('Comuna','@Comuna'), ('Habitantes', '@Poblacion')])\n",
    "\n",
    "#Crear el objeto figura\n",
    "fig = figure(title = 'Habitantes por Comuna',\n",
    "          plot_height = 600,\n",
    "          plot_width = 950,\n",
    "          toolbar_location = None,\n",
    "          tools = [hover])\n",
    "\n",
    "fig.xgrid.grid_line_color = None\n",
    "fig.ygrid.grid_line_color = None\n",
    "fig.title.text_font_size = '20pt'\n",
    "\n",
    "#Ocultamos los ejes\n",
    "fig.axis.visible = False\n",
    "\n",
    "#Agregar comunas\n",
    "fig.patches('xs', 'ys', \n",
    "          source = gsource,\n",
    "          fill_color = {'field': 'Poblacion', 'transform': color_mapper},\n",
    "          line_color = 'black',\n",
    "          line_width = 0.25,\n",
    "          fill_alpha = 1,\n",
    "          name = 'Comunas')\n",
    "\n",
    "#Display\n",
    "output_notebook()\n",
    "show(fig)"
   ]
  },
  {
   "cell_type": "code",
   "execution_count": null,
   "metadata": {},
   "outputs": [],
   "source": [
    "#Guardar HTML\n",
    "output_file('Mapa_RM.html')\n",
    "save(fig)"
   ]
  }
 ],
 "metadata": {
  "hide_input": false,
  "kernelspec": {
   "display_name": "Python 3",
   "language": "python",
   "name": "python3"
  },
  "language_info": {
   "codemirror_mode": {
    "name": "ipython",
    "version": 3
   },
   "file_extension": ".py",
   "mimetype": "text/x-python",
   "name": "python",
   "nbconvert_exporter": "python",
   "pygments_lexer": "ipython3",
   "version": "3.7.4"
  }
 },
 "nbformat": 4,
 "nbformat_minor": 2
}
